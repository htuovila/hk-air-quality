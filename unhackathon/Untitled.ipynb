{
 "cells": [
  {
   "cell_type": "code",
   "execution_count": 1,
   "metadata": {},
   "outputs": [
    {
     "ename": "FileNotFoundError",
     "evalue": "[Errno 2] No such file or directory: 'data-files'",
     "output_type": "error",
     "traceback": [
      "\u001b[0;31m---------------------------------------------------------------------------\u001b[0m",
      "\u001b[0;31mFileNotFoundError\u001b[0m                         Traceback (most recent call last)",
      "\u001b[0;32m<ipython-input-1-b9bec2c5f4d2>\u001b[0m in \u001b[0;36m<module>\u001b[0;34m()\u001b[0m\n\u001b[1;32m      9\u001b[0m \u001b[0;34m\u001b[0m\u001b[0m\n\u001b[1;32m     10\u001b[0m \u001b[0msubfolder\u001b[0m \u001b[0;34m=\u001b[0m \u001b[0;34m\"data-files\"\u001b[0m\u001b[0;34m\u001b[0m\u001b[0m\n\u001b[0;32m---> 11\u001b[0;31m \u001b[0mfile_names\u001b[0m\u001b[0;34m=\u001b[0m\u001b[0mos\u001b[0m\u001b[0;34m.\u001b[0m\u001b[0mlistdir\u001b[0m\u001b[0;34m(\u001b[0m\u001b[0msubfolder\u001b[0m\u001b[0;34m)\u001b[0m\u001b[0;34m\u001b[0m\u001b[0m\n\u001b[0m\u001b[1;32m     12\u001b[0m \u001b[0;31m# load the csvs\u001b[0m\u001b[0;34m\u001b[0m\u001b[0;34m\u001b[0m\u001b[0m\n\u001b[1;32m     13\u001b[0m \u001b[0mframes\u001b[0m\u001b[0;34m=\u001b[0m\u001b[0;34m[\u001b[0m\u001b[0;34m]\u001b[0m\u001b[0;34m\u001b[0m\u001b[0m\n",
      "\u001b[0;31mFileNotFoundError\u001b[0m: [Errno 2] No such file or directory: 'data-files'"
     ]
    }
   ],
   "source": [
    "# Imports\n",
    "import pandas as pd\n",
    "import numpy as np\n",
    "import seaborn as sns\n",
    "import matplotlib.pyplot as plt\n",
    "import os\n",
    "import math\n",
    "import datetime\n",
    "\n",
    "subfolder = \"data-files\"\n",
    "file_names=os.listdir(subfolder)\n",
    "# load the csvs\n",
    "frames=[]\n",
    "\n",
    "for file in file_names:\n",
    "    if not file.startswith(\".\"):\n",
    "        complete_path=subfolder + \"/\" + file\n",
    "        df=pd.read_csv(complete_path, header=10)\n",
    "        df['file']=file\n",
    "        frames.append(df)\n",
    "# for each dataframe we want to calculate the additional columns\n",
    "# 24h average of the particulate matter\n",
    "# 8h average of the ozone concentration\n"
   ]
  },
  {
   "cell_type": "code",
   "execution_count": null,
   "metadata": {},
   "outputs": [],
   "source": [
    "def impute_missing(frames):\n",
    "    columns=[\"FSP\",\"RSP\",\"CO\",\"NO2\",\"NOX\",\"O3\",\"SO2\"]\n",
    "    frames2=[]\n",
    "    for frame in frames:\n",
    "        frame=frame.replace(\"N.A.\", np.NaN)\n",
    "        # save the information of invalid data\n",
    "        frame[\"nans\"]=frame.isnull().any(axis=1)\n",
    "        # disable the following line if we do not wish to impute missing values\n",
    "        frame.fillna(method='ffill', inplace=True)\n",
    "        # in case there is still some missing, back propagation\n",
    "        frame.fillna(method='bfill', inplace=True)\n",
    "        frames2.append(frame)\n",
    "    return frames2\n",
    "\n",
    "frames2=impute_missing(frames)"
   ]
  },
  {
   "cell_type": "code",
   "execution_count": null,
   "metadata": {},
   "outputs": [],
   "source": []
  }
 ],
 "metadata": {
  "kernelspec": {
   "display_name": "Python 3",
   "language": "python",
   "name": "python3"
  },
  "language_info": {
   "codemirror_mode": {
    "name": "ipython",
    "version": 3
   },
   "file_extension": ".py",
   "mimetype": "text/x-python",
   "name": "python",
   "nbconvert_exporter": "python",
   "pygments_lexer": "ipython3",
   "version": "3.6.6"
  }
 },
 "nbformat": 4,
 "nbformat_minor": 2
}
