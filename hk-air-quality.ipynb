{
 "cells": [
  {
   "cell_type": "markdown",
   "metadata": {},
   "source": [
    "Data downloaded from https://cd.epic.epd.gov.hk/EPICDI/air/station/\n",
    "on January 12th 2019.\n",
    "\n",
    "Data is located in subfolder data-files, and split into 4 csv files, each containing\n",
    "data from one year from one station (Tung Chung and Hong Kong Central)."
   ]
  },
  {
   "cell_type": "code",
   "execution_count": 67,
   "metadata": {},
   "outputs": [],
   "source": [
    "# Imports\n",
    "import pandas as pd\n",
    "import numpy as np\n",
    "import seaborn as sns\n",
    "import matplotlib.pyplot as plt\n",
    "import os\n",
    "import math"
   ]
  },
  {
   "cell_type": "code",
   "execution_count": 224,
   "metadata": {},
   "outputs": [],
   "source": [
    "subfolder = \"data-files\"\n",
    "file_names=os.listdir(subfolder)\n",
    "# load the csvs\n",
    "frames=[]\n",
    "\n",
    "for file in file_names:\n",
    "    if not file.startswith(\".\"):\n",
    "        complete_path=subfolder + \"/\" + file\n",
    "        df=pd.read_csv(complete_path, header=10)\n",
    "        df['file']=file\n",
    "        frames.append(df)\n",
    "# for each dataframe we want to calculate the additional columns\n",
    "# 24h average of the particulate matter\n",
    "# 8h average of the ozone concentration\n",
    "    \n"
   ]
  },
  {
   "cell_type": "code",
   "execution_count": 225,
   "metadata": {},
   "outputs": [
    {
     "data": {
      "text/plain": [
       "DATE         0\n",
       "HOUR         0\n",
       "STATION      0\n",
       "CO         162\n",
       "FSP        361\n",
       "NO2        101\n",
       "NOX        101\n",
       "O3         120\n",
       "RSP        362\n",
       "SO2        103\n",
       "file         0\n",
       "FSP_24       0\n",
       "RSP_24       0\n",
       "O3_8         0\n",
       "dtype: int64"
      ]
     },
     "execution_count": 225,
     "metadata": {},
     "output_type": "execute_result"
    }
   ],
   "source": [
    "new_cols=[\"FSP_24\",\"RSP_24\",\"O3_8\"]\n",
    "for col in new_cols:\n",
    "    frames[0][col]=0\n",
    "\n",
    "# values we want to replace N.A. \n",
    "# counts for missing values in one dataset\n",
    "(frames[0]==\"N.A.\").sum()"
   ]
  },
  {
   "cell_type": "code",
   "execution_count": 226,
   "metadata": {},
   "outputs": [],
   "source": [
    "frames[0]=frames[0].replace(\"N.A.\", np.NaN)\n",
    "\n",
    "# for imputing the missing variables we use a 24h rolling average\n",
    "columns=[\"FSP\",\"RSP\",\"CO\",\"NO2\",\"NOX\",\"O3\",\"SO2\"]\n",
    "frames[0][columns].fillna(frames[0][columns].rolling(24,min_periods=1).mean())\n",
    "# imputation methodology is not precisely the same as the officially used (which is not\n",
    "# disclosed to my best knowledge). This may cause some inaccuracies.\n",
    "# it is questionable whether we should report missing values at all...\n",
    "\n",
    "def impute_missing(frames):\n",
    "    columns=[\"FSP\",\"RSP\",\"CO\",\"NO2\",\"NOX\",\"O3\",\"SO2\"]\n",
    "    frames2=[]\n",
    "    for frame in frames:\n",
    "        frame=frame.replace(\"N.A.\", np.NaN)\n",
    "        # disable the following line if we do not wish to impute missing values\n",
    "        #frame.fillna(method='ffill', inplace=True)\n",
    "        frames2.append(frame)\n",
    "    return frames2\n",
    "\n",
    "frames=impute_missing(frames)"
   ]
  },
  {
   "cell_type": "code",
   "execution_count": 227,
   "metadata": {},
   "outputs": [],
   "source": [
    "# calculate moving averages\n",
    "df_temp=frames[2]\n",
    "\n",
    "def compute_moving_averages(df):\n",
    "    min_period_count=2\n",
    "    df[\"FSP_24\"]=df[\"FSP\"].rolling(24,min_periods=min_period_count).mean()\n",
    "    df[\"RSP_24\"]=df[\"RSP\"].rolling(24,min_periods=min_period_count).mean()\n",
    "    df[\"O3_8\"]=df[\"O3\"].rolling(8,min_periods=min_period_count).mean()\n",
    "    return df\n",
    "\n",
    "frames2=[]\n",
    "for frame in frames:\n",
    "    frames2.append(compute_moving_averages(frame))\n",
    "frames=frames2"
   ]
  },
  {
   "cell_type": "code",
   "execution_count": 228,
   "metadata": {},
   "outputs": [
    {
     "data": {
      "text/html": [
       "<div>\n",
       "<style scoped>\n",
       "    .dataframe tbody tr th:only-of-type {\n",
       "        vertical-align: middle;\n",
       "    }\n",
       "\n",
       "    .dataframe tbody tr th {\n",
       "        vertical-align: top;\n",
       "    }\n",
       "\n",
       "    .dataframe thead th {\n",
       "        text-align: right;\n",
       "    }\n",
       "</style>\n",
       "<table border=\"1\" class=\"dataframe\">\n",
       "  <thead>\n",
       "    <tr style=\"text-align: right;\">\n",
       "      <th></th>\n",
       "      <th>DATE</th>\n",
       "      <th>HOUR</th>\n",
       "      <th>STATION</th>\n",
       "      <th>CO</th>\n",
       "      <th>FSP</th>\n",
       "      <th>NO2</th>\n",
       "      <th>NOX</th>\n",
       "      <th>O3</th>\n",
       "      <th>RSP</th>\n",
       "      <th>SO2</th>\n",
       "      <th>file</th>\n",
       "      <th>FSP_24</th>\n",
       "      <th>RSP_24</th>\n",
       "      <th>O3_8</th>\n",
       "    </tr>\n",
       "  </thead>\n",
       "  <tbody>\n",
       "    <tr>\n",
       "      <th>0</th>\n",
       "      <td>1/1/2017</td>\n",
       "      <td>1</td>\n",
       "      <td>CENTRAL</td>\n",
       "      <td>56</td>\n",
       "      <td>23</td>\n",
       "      <td>47</td>\n",
       "      <td>71</td>\n",
       "      <td>61</td>\n",
       "      <td>42</td>\n",
       "      <td>2</td>\n",
       "      <td>hk-air_hourly2017.csv</td>\n",
       "      <td>NaN</td>\n",
       "      <td>NaN</td>\n",
       "      <td>NaN</td>\n",
       "    </tr>\n",
       "    <tr>\n",
       "      <th>1</th>\n",
       "      <td>1/1/2017</td>\n",
       "      <td>2</td>\n",
       "      <td>CENTRAL</td>\n",
       "      <td>50</td>\n",
       "      <td>17</td>\n",
       "      <td>32</td>\n",
       "      <td>39</td>\n",
       "      <td>69</td>\n",
       "      <td>36</td>\n",
       "      <td>1</td>\n",
       "      <td>hk-air_hourly2017.csv</td>\n",
       "      <td>20.00</td>\n",
       "      <td>39.000000</td>\n",
       "      <td>65.0</td>\n",
       "    </tr>\n",
       "    <tr>\n",
       "      <th>2</th>\n",
       "      <td>1/1/2017</td>\n",
       "      <td>3</td>\n",
       "      <td>CENTRAL</td>\n",
       "      <td>56</td>\n",
       "      <td>14</td>\n",
       "      <td>36</td>\n",
       "      <td>46</td>\n",
       "      <td>65</td>\n",
       "      <td>31</td>\n",
       "      <td>2</td>\n",
       "      <td>hk-air_hourly2017.csv</td>\n",
       "      <td>18.00</td>\n",
       "      <td>36.333333</td>\n",
       "      <td>65.0</td>\n",
       "    </tr>\n",
       "    <tr>\n",
       "      <th>3</th>\n",
       "      <td>1/1/2017</td>\n",
       "      <td>4</td>\n",
       "      <td>CENTRAL</td>\n",
       "      <td>46</td>\n",
       "      <td>13</td>\n",
       "      <td>21</td>\n",
       "      <td>27</td>\n",
       "      <td>73</td>\n",
       "      <td>27</td>\n",
       "      <td>1</td>\n",
       "      <td>hk-air_hourly2017.csv</td>\n",
       "      <td>16.75</td>\n",
       "      <td>34.000000</td>\n",
       "      <td>67.0</td>\n",
       "    </tr>\n",
       "    <tr>\n",
       "      <th>4</th>\n",
       "      <td>1/1/2017</td>\n",
       "      <td>5</td>\n",
       "      <td>CENTRAL</td>\n",
       "      <td>46</td>\n",
       "      <td>6</td>\n",
       "      <td>18</td>\n",
       "      <td>23</td>\n",
       "      <td>70</td>\n",
       "      <td>16</td>\n",
       "      <td>1</td>\n",
       "      <td>hk-air_hourly2017.csv</td>\n",
       "      <td>14.60</td>\n",
       "      <td>30.400000</td>\n",
       "      <td>67.6</td>\n",
       "    </tr>\n",
       "  </tbody>\n",
       "</table>\n",
       "</div>"
      ],
      "text/plain": [
       "       DATE  HOUR  STATION  CO FSP NO2 NOX  O3 RSP SO2                   file  \\\n",
       "0  1/1/2017     1  CENTRAL  56  23  47  71  61  42   2  hk-air_hourly2017.csv   \n",
       "1  1/1/2017     2  CENTRAL  50  17  32  39  69  36   1  hk-air_hourly2017.csv   \n",
       "2  1/1/2017     3  CENTRAL  56  14  36  46  65  31   2  hk-air_hourly2017.csv   \n",
       "3  1/1/2017     4  CENTRAL  46  13  21  27  73  27   1  hk-air_hourly2017.csv   \n",
       "4  1/1/2017     5  CENTRAL  46   6  18  23  70  16   1  hk-air_hourly2017.csv   \n",
       "\n",
       "   FSP_24     RSP_24  O3_8  \n",
       "0     NaN        NaN   NaN  \n",
       "1   20.00  39.000000  65.0  \n",
       "2   18.00  36.333333  65.0  \n",
       "3   16.75  34.000000  67.0  \n",
       "4   14.60  30.400000  67.6  "
      ]
     },
     "execution_count": 228,
     "metadata": {},
     "output_type": "execute_result"
    }
   ],
   "source": [
    "# Lets have a look on the data\n",
    "frames[0].head()"
   ]
  },
  {
   "cell_type": "markdown",
   "metadata": {},
   "source": [
    "# Pollutants to Air quality indices\n",
    "Next challenge is to transform the hourly pollutant level data into either -> AQHI (air quality health index, by environmental protection department of HK)\n",
    "-> AQI (air quality index, by environmental protection agency of the USA)\n",
    "\n",
    "## AQI US Calculation\n",
    "Explanation on how to calculate the US AQI can be found documented in wikipedia\n",
    "https://en.wikipedia.org/wiki/Air_quality_index#Computing_the_AQI\n",
    "\n",
    "Since there exists a well documented Python package for calculating the US AQI we resort to that for now. The library is called ```python-aqi```. Source code and documentation can be found [on github](https://github.com/hrbonz/python-aqi).\n",
    "\n",
    "Installation is done in command line interface with ```pip install python-aqi```, and importing with ```import aqi```."
   ]
  },
  {
   "cell_type": "code",
   "execution_count": 40,
   "metadata": {},
   "outputs": [],
   "source": [
    "import aqi"
   ]
  },
  {
   "cell_type": "markdown",
   "metadata": {},
   "source": [
    "### Terminology\n",
    "Carbon Monoxide = CO  \n",
    "Fine Suspended Particulates = FSP = PM25  \n",
    "Nitrogen Dioxide = NO2  \n",
    "Nitrogen Oxides = NOX  \n",
    "Ozone = O3  \n",
    "Respirable Suspended Particulates = RSP = PM10  \n",
    "Sulphur Dioxide = SO2  \n"
   ]
  },
  {
   "cell_type": "markdown",
   "metadata": {},
   "source": [
    "### AQI components\n",
    "For computing the AQI in addition to hourly measures we will need  \n",
    "* 8h average of the Ozone concentration\n",
    "* 24h average of the PM25 concentration\n",
    "* 24h average of the PM10 concentration\n",
    "\n",
    "When reporting current air quality conditions averaging past 24h observations\n",
    "would not make much sense, the US EPA uses an averaging system called [NowCast]( https://en.wikipedia.org/wiki/NowCast_(air_quality_index%29).\n",
    "\n",
    "TODO: NowCast computation\n",
    "\n",
    "Currently we resort to observed values, and calculate the real 24h averages (which are of course not same as the reported momentary predictive AQI values)\n",
    "\n",
    "\n",
    "### Hong Kong AQHI\n",
    "AQHI (air quality health index) is a measure designed to signal the expected health\n",
    "effects of present pollutant concentration.\n",
    "\n",
    "A study report by a team in CUHK may be found [online](http://www.aqhi.gov.hk/pdf/related_websites/APIreview_report.pdf) and the [general portal in english](http://www.aqhi.gov.hk/en.html) by the HK Environmental Protection Department.\n",
    "\n",
    "The Hong Kong AQHI is based on the [Canadian counterpart](https://en.wikipedia.org/wiki/Air_Quality_Health_Index_(Canada)), but the model parameters have been recalibrated to localize the model.\n",
    "\n",
    "The model for computing the AQHI is shown in full [in EPD's faq](http://www.aqhi.gov.hk/en/what-is-aqhi/faqs.html).\n"
   ]
  },
  {
   "cell_type": "code",
   "execution_count": 266,
   "metadata": {},
   "outputs": [],
   "source": [
    "# Function for computing the AQHI\n",
    "def added_risk(beta,concentration):\n",
    "    '''generic added risk function for computing the added health risk\n",
    "    of a pollutant concentration'''\n",
    "    ar=math.expm1(beta*float(concentration))*100.0\n",
    "    return ar\n",
    "\n",
    "def aqhi_func(conc, added_risk):\n",
    "    '''each input represents the 3h moving average\n",
    "    of the pollutant concentration in question'''\n",
    "    #constants (regression coefficients)\n",
    "    pollutants=[\"NO2\",\"SO2\",\"O3\",\"PM10\",\"PM25\"]\n",
    "    betas=[0.0004462559,0.0001393235,0.0005116328,0.0002821751,0.0002180567]\n",
    "    ars=list(map(added_risk, betas, conc))\n",
    "    ar_total=sum(ars[0:2])+max(ars[3:4])\n",
    "    return ar_total\n",
    "\n",
    "def aqhi_function2(added_risk):\n",
    "    return lambda conc: aqhi_func(conc,added_risk) \n",
    "\n",
    "aqhi_function = aqhi_function2(added_risk)"
   ]
  },
  {
   "cell_type": "code",
   "execution_count": 267,
   "metadata": {},
   "outputs": [
    {
     "name": "stdout",
     "output_type": "stream",
     "text": [
      "7.326174439235971\n"
     ]
    }
   ],
   "source": [
    "conc_test=[115,15,4,65,40]\n",
    "print(aqhi_function(conc_test))"
   ]
  },
  {
   "cell_type": "code",
   "execution_count": null,
   "metadata": {},
   "outputs": [],
   "source": [
    "# TODO:\n",
    "# [ ] function to add 3h moving average\n",
    "# [x] functions to calculate the 24h and 8h moving averages for respective pollutants\n",
    "# [x] function to handle missing values"
   ]
  },
  {
   "cell_type": "code",
   "execution_count": 233,
   "metadata": {},
   "outputs": [],
   "source": [
    "def add_3h_moving_averages(frames):\n",
    "    '''Function to add and calculate 3h moving averages\n",
    "    of pollutants. 3h averages needed for AQHI computation'''\n",
    "    columns=[\"FSP\",\"RSP\",\"CO\",\"NO2\",\"NOX\",\"O3\",\"SO2\"]\n",
    "    addition=\"_3\"\n",
    "    frames2=[]\n",
    "    for frame in frames:\n",
    "        for column in columns:\n",
    "            frame[column+addition]=frame[column].rolling(3,min_periods=1).mean()\n",
    "        frames2.append(frame)\n",
    "    return frames2\n",
    "frames=add_3h_moving_averages(frames)"
   ]
  },
  {
   "cell_type": "code",
   "execution_count": 280,
   "metadata": {},
   "outputs": [
    {
     "name": "stdout",
     "output_type": "stream",
     "text": [
      "descriptive statistics for the AQHI\n"
     ]
    },
    {
     "data": {
      "text/plain": [
       "count    8615.000000\n",
       "mean        4.710200\n",
       "std         2.429589\n",
       "min         0.533001\n",
       "25%         2.937788\n",
       "50%         4.238677\n",
       "75%         6.007995\n",
       "max        17.276088\n",
       "Name: AQHI, dtype: float64"
      ]
     },
     "execution_count": 280,
     "metadata": {},
     "output_type": "execute_result"
    }
   ],
   "source": [
    "# Lets compute the AQHI values\n",
    "def add_aqhi_to_df(df):\n",
    "    # order of input variables\n",
    "    # pollutants=[\"NO2\",\"SO2\",\"O3\",\"PM10\",\"PM25\"]\n",
    "    column_order=[\"NO2\",\"SO2\",\"O3\",\"RSP\",\"FSP\"]\n",
    "    column_order_3h=[column + \"_3\" for column in column_order]\n",
    "    df[\"AQHI\"]=df[column_order_3h].apply(aqhi_function,axis=1)\n",
    "    df[\"AQHI_instant\"]=df[column_order].apply(aqhi_function,axis=1)\n",
    "    return df\n",
    "temp=add_aqhi_to_df(frames[0])\n",
    "print(\"descriptive statistics for the AQHI\")\n",
    "temp[\"AQHI\"].describe()\n"
   ]
  },
  {
   "cell_type": "code",
   "execution_count": 279,
   "metadata": {},
   "outputs": [
    {
     "name": "stdout",
     "output_type": "stream",
     "text": [
      "descriptive statistics for the AQHI (instant)\n"
     ]
    },
    {
     "data": {
      "text/plain": [
       "count    8339.000000\n",
       "mean        4.750688\n",
       "std         2.497319\n",
       "min         0.523741\n",
       "25%         2.942754\n",
       "50%         4.302120\n",
       "75%         6.066086\n",
       "max        18.284179\n",
       "Name: AQHI_instant, dtype: float64"
      ]
     },
     "execution_count": 279,
     "metadata": {},
     "output_type": "execute_result"
    }
   ],
   "source": [
    "print(\"descriptive statistics for the AQHI (instant)\")\n",
    "temp[\"AQHI_instant\"].describe()"
   ]
  },
  {
   "cell_type": "code",
   "execution_count": 236,
   "metadata": {},
   "outputs": [
    {
     "data": {
      "text/plain": [
       "['NO2_3', 'SO2_3', 'O3_3', 'RSP_3', 'FSP_3']"
      ]
     },
     "execution_count": 236,
     "metadata": {},
     "output_type": "execute_result"
    }
   ],
   "source": [
    "column_order=[\"NO2\",\"SO2\",\"O3\",\"RSP\",\"FSP\"]\n",
    "[column + \"_3\" for column in column_order]"
   ]
  },
  {
   "cell_type": "code",
   "execution_count": 90,
   "metadata": {},
   "outputs": [
    {
     "data": {
      "text/plain": [
       "Decimal('139')"
      ]
     },
     "execution_count": 90,
     "metadata": {},
     "output_type": "execute_result"
    }
   ],
   "source": [
    "# testing the aqi library's to_aqi function - seems to work\n",
    "aqi.to_aqi([\n",
    "    (aqi.POLLUTANT_PM25, df['FSP'].iloc[1]),\n",
    "    (aqi.POLLUTANT_PM10, '24'),\n",
    "    (aqi.POLLUTANT_O3_8H, '0.087')\n",
    "])"
   ]
  },
  {
   "cell_type": "code",
   "execution_count": null,
   "metadata": {},
   "outputs": [],
   "source": []
  },
  {
   "cell_type": "markdown",
   "metadata": {},
   "source": [
    "### Data for comparison\n",
    "\n",
    "For comparison and validation we need to download the hourly AQHI data, and respective US AQI data to run the comparison"
   ]
  },
  {
   "cell_type": "code",
   "execution_count": 160,
   "metadata": {},
   "outputs": [],
   "source": [
    "# Lets concatenate dataframes\n",
    "dfa=pd.concat(frames)"
   ]
  },
  {
   "cell_type": "markdown",
   "metadata": {},
   "source": [
    "# References\n",
    "\n",
    "1. [Development and Application of a Next Generation\n",
    "Air Sensor Network for the Hong Kong Marathon\n",
    "2015 Air Quality Monitoring](https://pdfs.semanticscholar.org/76b5/d17b3d917cf5b9a16a6afd806d1c8f3ba7bc.pdf)\n",
    "2. [How is the hourly AQHI calculated?](http://www.aqhi.gov.hk/en/what-is-aqhi/faqs.html#e_02)\n",
    "3. [Computing the AQI](https://en.wikipedia.org/wiki/Air_quality_index#Computing_the_AQI)\n",
    "4. [NowCast (air quality index)](https://en.wikipedia.org/wiki/NowCast_(air_quality_index%29)\n",
    "5. [Inquire and Download Air Quality Monitoring Data](https://cd.epic.epd.gov.hk/EPICDI/air/station/)\n",
    "6. [A library to convert between AQI value and pollutant concentration (µg/m³ or ppm)](https://github.com/hrbonz/python-aqi/blob/master/aqi/algos/epa.py)\n",
    "7. [Past AQHI Record for Download\n",
    "](http://www.aqhi.gov.hk/en/aqhi/statistics-of-aqhi/past-aqhi-records.html)"
   ]
  },
  {
   "cell_type": "code",
   "execution_count": null,
   "metadata": {},
   "outputs": [],
   "source": []
  }
 ],
 "metadata": {
  "kernelspec": {
   "display_name": "Python 3",
   "language": "python",
   "name": "python3"
  },
  "language_info": {
   "codemirror_mode": {
    "name": "ipython",
    "version": 3
   },
   "file_extension": ".py",
   "mimetype": "text/x-python",
   "name": "python",
   "nbconvert_exporter": "python",
   "pygments_lexer": "ipython3",
   "version": "3.6.6"
  }
 },
 "nbformat": 4,
 "nbformat_minor": 2
}
