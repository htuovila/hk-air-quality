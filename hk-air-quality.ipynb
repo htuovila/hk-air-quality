{
 "cells": [
  {
   "cell_type": "markdown",
   "metadata": {},
   "source": [
    "Data downloaded from https://cd.epic.epd.gov.hk/EPICDI/air/station/\n",
    "on January 12th 2019.\n",
    "\n",
    "Data is located in subfolder data-files, and split into 4 csv files, each containing\n",
    "data from one year from one station (Tung Chung and Hong Kong Central)."
   ]
  },
  {
   "cell_type": "code",
   "execution_count": 1,
   "metadata": {},
   "outputs": [],
   "source": [
    "# Imports\n",
    "import pandas as pd\n",
    "import numpy as np\n",
    "import seaborn as sns\n",
    "import matplotlib.pyplot as plt\n",
    "import os\n",
    "import math"
   ]
  },
  {
   "cell_type": "code",
   "execution_count": 2,
   "metadata": {},
   "outputs": [],
   "source": [
    "subfolder = \"data-files\"\n",
    "file_names=os.listdir(subfolder)\n",
    "# load the csvs\n",
    "frames=[]\n",
    "\n",
    "for file in file_names:\n",
    "    if not file.startswith(\".\"):\n",
    "        complete_path=subfolder + \"/\" + file\n",
    "        df=pd.read_csv(complete_path, header=10)\n",
    "        df['file']=file\n",
    "        frames.append(df)\n",
    "# for each dataframe we want to calculate the additional columns\n",
    "# 24h average of the particulate matter\n",
    "# 8h average of the ozone concentration\n",
    "    \n"
   ]
  },
  {
   "cell_type": "code",
   "execution_count": 3,
   "metadata": {},
   "outputs": [
    {
     "data": {
      "text/plain": [
       "DATE         0\n",
       "HOUR         0\n",
       "STATION      0\n",
       "CO         162\n",
       "FSP        361\n",
       "NO2        101\n",
       "NOX        101\n",
       "O3         120\n",
       "RSP        362\n",
       "SO2        103\n",
       "file         0\n",
       "FSP_24       0\n",
       "RSP_24       0\n",
       "O3_8         0\n",
       "dtype: int64"
      ]
     },
     "execution_count": 3,
     "metadata": {},
     "output_type": "execute_result"
    }
   ],
   "source": [
    "new_cols=[\"FSP_24\",\"RSP_24\",\"O3_8\"]\n",
    "for col in new_cols:\n",
    "    frames[0][col]=0\n",
    "\n",
    "# values we want to replace N.A. \n",
    "# counts for missing values in one dataset\n",
    "(frames[0]==\"N.A.\").sum()"
   ]
  },
  {
   "cell_type": "code",
   "execution_count": 4,
   "metadata": {},
   "outputs": [],
   "source": [
    "frames[0]=frames[0].replace(\"N.A.\", np.NaN)\n",
    "\n",
    "# for imputing the missing variables we use a 24h rolling average\n",
    "columns=[\"FSP\",\"RSP\",\"CO\",\"NO2\",\"NOX\",\"O3\",\"SO2\"]\n",
    "frames[0][columns].fillna(frames[0][columns].rolling(24,min_periods=1).mean())\n",
    "# imputation methodology is not the same as the officially used (which is not\n",
    "# disclosed). This may cause some inaccuracies.\n",
    "# it is questionable whether we should report missing values at all...\n",
    "\n",
    "def impute_missing(frames):\n",
    "    columns=[\"FSP\",\"RSP\",\"CO\",\"NO2\",\"NOX\",\"O3\",\"SO2\"]\n",
    "    frames2=[]\n",
    "    for frame in frames:\n",
    "        frame=frame.replace(\"N.A.\", np.NaN)\n",
    "        # save the information of invalid data\n",
    "        frame[\"nans\"]=frame.isnull().any(axis=1)\n",
    "        # disable the following line if we do not wish to impute missing values\n",
    "        frame.fillna(method='ffill', inplace=True)\n",
    "        # in case there is still some missing, back propagation\n",
    "        frame.fillna(method='bfill', inplace=True)\n",
    "        frames2.append(frame)\n",
    "    return frames2\n",
    "\n",
    "frames=impute_missing(frames)"
   ]
  },
  {
   "cell_type": "code",
   "execution_count": 5,
   "metadata": {},
   "outputs": [],
   "source": [
    "# calculate moving averages\n",
    "df_temp=frames[2]\n",
    "\n",
    "def compute_moving_averages(df):\n",
    "    min_period_count=2\n",
    "    df[\"FSP_24\"]=df[\"FSP\"].rolling(24,min_periods=min_period_count).mean()\n",
    "    df[\"RSP_24\"]=df[\"RSP\"].rolling(24,min_periods=min_period_count).mean()\n",
    "    df[\"O3_8\"]=df[\"O3\"].rolling(8,min_periods=min_period_count).mean()\n",
    "    return df\n",
    "\n",
    "frames2=[]\n",
    "for frame in frames:\n",
    "    frames2.append(compute_moving_averages(frame))\n",
    "frames=frames2"
   ]
  },
  {
   "cell_type": "code",
   "execution_count": 6,
   "metadata": {},
   "outputs": [
    {
     "data": {
      "text/html": [
       "<div>\n",
       "<style scoped>\n",
       "    .dataframe tbody tr th:only-of-type {\n",
       "        vertical-align: middle;\n",
       "    }\n",
       "\n",
       "    .dataframe tbody tr th {\n",
       "        vertical-align: top;\n",
       "    }\n",
       "\n",
       "    .dataframe thead th {\n",
       "        text-align: right;\n",
       "    }\n",
       "</style>\n",
       "<table border=\"1\" class=\"dataframe\">\n",
       "  <thead>\n",
       "    <tr style=\"text-align: right;\">\n",
       "      <th></th>\n",
       "      <th>DATE</th>\n",
       "      <th>HOUR</th>\n",
       "      <th>STATION</th>\n",
       "      <th>CO</th>\n",
       "      <th>FSP</th>\n",
       "      <th>NO2</th>\n",
       "      <th>NOX</th>\n",
       "      <th>O3</th>\n",
       "      <th>RSP</th>\n",
       "      <th>SO2</th>\n",
       "      <th>file</th>\n",
       "      <th>FSP_24</th>\n",
       "      <th>RSP_24</th>\n",
       "      <th>O3_8</th>\n",
       "      <th>nans</th>\n",
       "    </tr>\n",
       "  </thead>\n",
       "  <tbody>\n",
       "    <tr>\n",
       "      <th>0</th>\n",
       "      <td>1/1/2017</td>\n",
       "      <td>1</td>\n",
       "      <td>CENTRAL</td>\n",
       "      <td>56</td>\n",
       "      <td>23</td>\n",
       "      <td>47</td>\n",
       "      <td>71</td>\n",
       "      <td>61</td>\n",
       "      <td>42</td>\n",
       "      <td>2</td>\n",
       "      <td>hk-air_hourly2017.csv</td>\n",
       "      <td>NaN</td>\n",
       "      <td>NaN</td>\n",
       "      <td>NaN</td>\n",
       "      <td>False</td>\n",
       "    </tr>\n",
       "    <tr>\n",
       "      <th>1</th>\n",
       "      <td>1/1/2017</td>\n",
       "      <td>2</td>\n",
       "      <td>CENTRAL</td>\n",
       "      <td>50</td>\n",
       "      <td>17</td>\n",
       "      <td>32</td>\n",
       "      <td>39</td>\n",
       "      <td>69</td>\n",
       "      <td>36</td>\n",
       "      <td>1</td>\n",
       "      <td>hk-air_hourly2017.csv</td>\n",
       "      <td>20.00</td>\n",
       "      <td>39.000000</td>\n",
       "      <td>65.0</td>\n",
       "      <td>False</td>\n",
       "    </tr>\n",
       "    <tr>\n",
       "      <th>2</th>\n",
       "      <td>1/1/2017</td>\n",
       "      <td>3</td>\n",
       "      <td>CENTRAL</td>\n",
       "      <td>56</td>\n",
       "      <td>14</td>\n",
       "      <td>36</td>\n",
       "      <td>46</td>\n",
       "      <td>65</td>\n",
       "      <td>31</td>\n",
       "      <td>2</td>\n",
       "      <td>hk-air_hourly2017.csv</td>\n",
       "      <td>18.00</td>\n",
       "      <td>36.333333</td>\n",
       "      <td>65.0</td>\n",
       "      <td>False</td>\n",
       "    </tr>\n",
       "    <tr>\n",
       "      <th>3</th>\n",
       "      <td>1/1/2017</td>\n",
       "      <td>4</td>\n",
       "      <td>CENTRAL</td>\n",
       "      <td>46</td>\n",
       "      <td>13</td>\n",
       "      <td>21</td>\n",
       "      <td>27</td>\n",
       "      <td>73</td>\n",
       "      <td>27</td>\n",
       "      <td>1</td>\n",
       "      <td>hk-air_hourly2017.csv</td>\n",
       "      <td>16.75</td>\n",
       "      <td>34.000000</td>\n",
       "      <td>67.0</td>\n",
       "      <td>False</td>\n",
       "    </tr>\n",
       "    <tr>\n",
       "      <th>4</th>\n",
       "      <td>1/1/2017</td>\n",
       "      <td>5</td>\n",
       "      <td>CENTRAL</td>\n",
       "      <td>46</td>\n",
       "      <td>6</td>\n",
       "      <td>18</td>\n",
       "      <td>23</td>\n",
       "      <td>70</td>\n",
       "      <td>16</td>\n",
       "      <td>1</td>\n",
       "      <td>hk-air_hourly2017.csv</td>\n",
       "      <td>14.60</td>\n",
       "      <td>30.400000</td>\n",
       "      <td>67.6</td>\n",
       "      <td>False</td>\n",
       "    </tr>\n",
       "  </tbody>\n",
       "</table>\n",
       "</div>"
      ],
      "text/plain": [
       "       DATE  HOUR  STATION  CO FSP NO2 NOX  O3 RSP SO2                   file  \\\n",
       "0  1/1/2017     1  CENTRAL  56  23  47  71  61  42   2  hk-air_hourly2017.csv   \n",
       "1  1/1/2017     2  CENTRAL  50  17  32  39  69  36   1  hk-air_hourly2017.csv   \n",
       "2  1/1/2017     3  CENTRAL  56  14  36  46  65  31   2  hk-air_hourly2017.csv   \n",
       "3  1/1/2017     4  CENTRAL  46  13  21  27  73  27   1  hk-air_hourly2017.csv   \n",
       "4  1/1/2017     5  CENTRAL  46   6  18  23  70  16   1  hk-air_hourly2017.csv   \n",
       "\n",
       "   FSP_24     RSP_24  O3_8   nans  \n",
       "0     NaN        NaN   NaN  False  \n",
       "1   20.00  39.000000  65.0  False  \n",
       "2   18.00  36.333333  65.0  False  \n",
       "3   16.75  34.000000  67.0  False  \n",
       "4   14.60  30.400000  67.6  False  "
      ]
     },
     "execution_count": 6,
     "metadata": {},
     "output_type": "execute_result"
    }
   ],
   "source": [
    "# Lets have a look on the data\n",
    "frames[0].head()"
   ]
  },
  {
   "cell_type": "markdown",
   "metadata": {},
   "source": [
    "# Pollutants to Air quality indices\n",
    "Next challenge is to transform the hourly pollutant level data into either -> AQHI (air quality health index, by environmental protection department of HK)\n",
    "-> AQI (air quality index, by environmental protection agency of the USA)\n",
    "\n",
    "## AQI US Calculation\n",
    "Explanation on how to calculate the US AQI can be found documented in wikipedia\n",
    "https://en.wikipedia.org/wiki/Air_quality_index#Computing_the_AQI\n",
    "\n",
    "Since there exists a well documented Python package for calculating the US AQI we resort to that for now. The library is called ```python-aqi```. Source code and documentation can be found [on github](https://github.com/hrbonz/python-aqi).\n",
    "\n",
    "Installation is done in command line interface with ```pip install python-aqi```, and importing with ```import aqi```."
   ]
  },
  {
   "cell_type": "code",
   "execution_count": 7,
   "metadata": {},
   "outputs": [],
   "source": [
    "import aqi"
   ]
  },
  {
   "cell_type": "markdown",
   "metadata": {},
   "source": [
    "### Terminology\n",
    "Carbon Monoxide = CO  \n",
    "Fine Suspended Particulates = FSP = PM25  \n",
    "Nitrogen Dioxide = NO2  \n",
    "Nitrogen Oxides = NOX  \n",
    "Ozone = O3  \n",
    "Respirable Suspended Particulates = RSP = PM10  \n",
    "Sulphur Dioxide = SO2  \n"
   ]
  },
  {
   "cell_type": "markdown",
   "metadata": {},
   "source": [
    "### AQI components\n",
    "For computing the AQI in addition to hourly measures we will need  \n",
    "* 8h average of the Ozone concentration\n",
    "* 24h average of the PM25 concentration\n",
    "* 24h average of the PM10 concentration\n",
    "\n",
    "When reporting current air quality conditions averaging past 24h observations\n",
    "would not make much sense, the US EPA uses an averaging system called [NowCast]( https://en.wikipedia.org/wiki/NowCast_(air_quality_index%29).\n",
    "\n",
    "TODO: NowCast computation\n",
    "\n",
    "Currently we resort to observed values, and calculate the real 24h averages (which are of course not same as the reported momentary predictive AQI values)\n",
    "\n",
    "\n",
    "### Hong Kong AQHI\n",
    "AQHI (air quality health index) is a measure designed to signal the expected health\n",
    "effects of present pollutant concentration.\n",
    "\n",
    "A study report by a team in CUHK may be found [online](http://www.aqhi.gov.hk/pdf/related_websites/APIreview_report.pdf) and the [general portal in english](http://www.aqhi.gov.hk/en.html) by the HK Environmental Protection Department.\n",
    "\n",
    "The Hong Kong AQHI is based on the [Canadian counterpart](https://en.wikipedia.org/wiki/Air_Quality_Health_Index_(Canada)), but the model parameters have been recalibrated to localize the model.\n",
    "\n",
    "The model for computing the AQHI is shown in full [in EPD's faq](http://www.aqhi.gov.hk/en/what-is-aqhi/faqs.html).\n"
   ]
  },
  {
   "cell_type": "code",
   "execution_count": 8,
   "metadata": {},
   "outputs": [],
   "source": [
    "# Function for computing the AQHI\n",
    "def added_risk(beta,concentration):\n",
    "    '''generic added risk function for computing the added health risk\n",
    "    of a pollutant concentration'''\n",
    "    ar=math.expm1(beta*float(concentration))*100.0\n",
    "    return ar\n",
    "\n",
    "def aqhi_func(conc, added_risk):\n",
    "    '''each input represents the 3h moving average\n",
    "    of the pollutant concentration in question'''\n",
    "    #constants (regression coefficients)\n",
    "    pollutants=[\"NO2\",\"SO2\",\"O3\",\"PM10\",\"PM25\"]\n",
    "    betas=[0.0004462559,0.0001393235,0.0005116328,0.0002821751,0.0002180567]\n",
    "    ars=list(map(added_risk, betas, conc))\n",
    "    ar_total=sum(ars[0:2])+max(ars[3:4])\n",
    "    return ar_total\n",
    "\n",
    "def aqhi_function2(added_risk):\n",
    "    '''wrapper function to avoid giving added_risk every time as argument'''\n",
    "    return lambda conc: aqhi_func(conc,added_risk) \n",
    "aqhi_function = aqhi_function2(added_risk)\n",
    "# aqhi_function same as aqhi_func but with one argument less"
   ]
  },
  {
   "cell_type": "code",
   "execution_count": 9,
   "metadata": {},
   "outputs": [
    {
     "name": "stdout",
     "output_type": "stream",
     "text": [
      "7.326174439235971\n"
     ]
    }
   ],
   "source": [
    "conc_test=[115,15,4,65,40]\n",
    "print(aqhi_function(conc_test))"
   ]
  },
  {
   "cell_type": "code",
   "execution_count": 10,
   "metadata": {},
   "outputs": [],
   "source": [
    "# TODO:\n",
    "# [x] function to add 3h moving average\n",
    "# [x] functions to calculate the 24h and 8h moving averages for respective pollutants\n",
    "# [x] function to handle missing values"
   ]
  },
  {
   "cell_type": "code",
   "execution_count": 11,
   "metadata": {},
   "outputs": [],
   "source": [
    "def add_3h_moving_averages(frames):\n",
    "    '''Function to add and calculate 3h moving averages\n",
    "    of pollutants. 3h averages needed for AQHI computation'''\n",
    "    columns=[\"FSP\",\"RSP\",\"CO\",\"NO2\",\"NOX\",\"O3\",\"SO2\"]\n",
    "    addition=\"_3\"\n",
    "    frames2=[]\n",
    "    for frame in frames:\n",
    "        for column in columns:\n",
    "            frame[column+addition]=frame[column].rolling(3,min_periods=1).mean()\n",
    "        frames2.append(frame)\n",
    "    return frames2\n",
    "frames=add_3h_moving_averages(frames)"
   ]
  },
  {
   "cell_type": "code",
   "execution_count": 12,
   "metadata": {},
   "outputs": [
    {
     "name": "stdout",
     "output_type": "stream",
     "text": [
      "descriptive statistics for the AQHI\n"
     ]
    },
    {
     "data": {
      "text/plain": [
       "count    8784.000000\n",
       "mean        4.680934\n",
       "std         2.433589\n",
       "min         0.528306\n",
       "25%         2.905796\n",
       "50%         4.209872\n",
       "75%         5.989097\n",
       "max        17.276088\n",
       "Name: AQHI, dtype: float64"
      ]
     },
     "execution_count": 12,
     "metadata": {},
     "output_type": "execute_result"
    }
   ],
   "source": [
    "# Lets compute the AQHI values\n",
    "def add_aqhi_to_df(df):\n",
    "    # order of input variables\n",
    "    # pollutants=[\"NO2\",\"SO2\",\"O3\",\"PM10\",\"PM25\"]\n",
    "    column_order=[\"NO2\",\"SO2\",\"O3\",\"RSP\",\"FSP\"]\n",
    "    column_order_3h=[column + \"_3\" for column in column_order]\n",
    "    df[\"AQHI\"]=df[column_order_3h].apply(aqhi_function,axis=1)\n",
    "    df[\"AQHI_instant\"]=df[column_order].apply(aqhi_function,axis=1)\n",
    "    return df\n",
    "temp=add_aqhi_to_df(frames[0])\n",
    "print(\"descriptive statistics for the AQHI\")\n",
    "temp[\"AQHI\"].describe()\n"
   ]
  },
  {
   "cell_type": "code",
   "execution_count": 13,
   "metadata": {},
   "outputs": [
    {
     "name": "stdout",
     "output_type": "stream",
     "text": [
      "descriptive statistics for the AQHI (instant)\n"
     ]
    },
    {
     "data": {
      "text/plain": [
       "count    8784.000000\n",
       "mean        4.682591\n",
       "std         2.506636\n",
       "min         0.495487\n",
       "25%         2.873070\n",
       "50%         4.231450\n",
       "75%         5.999938\n",
       "max        18.284179\n",
       "Name: AQHI_instant, dtype: float64"
      ]
     },
     "execution_count": 13,
     "metadata": {},
     "output_type": "execute_result"
    }
   ],
   "source": [
    "print(\"descriptive statistics for the AQHI (instant)\")\n",
    "temp[\"AQHI_instant\"].describe()"
   ]
  },
  {
   "cell_type": "code",
   "execution_count": 14,
   "metadata": {},
   "outputs": [],
   "source": [
    "def add_aqhi_to_df_list(frames,add_aqhi_to_df):\n",
    "    for frame in frames:\n",
    "        frames2.append(add_aqhi_to_df(frame))\n",
    "    return frames2\n",
    "\n",
    "frames=add_aqhi_to_df_list(frames,add_aqhi_to_df)"
   ]
  },
  {
   "cell_type": "code",
   "execution_count": 61,
   "metadata": {},
   "outputs": [
    {
     "data": {
      "text/plain": [
       "0    74\n",
       "1    61\n",
       "2    55\n",
       "3    53\n",
       "4    25\n",
       "Name: FSP, dtype: object"
      ]
     },
     "execution_count": 61,
     "metadata": {},
     "output_type": "execute_result"
    }
   ],
   "source": [
    "# Next we need to compute the AQI US and add it to the dataframes.\n",
    "# For this we use the aqi library\n",
    "\n",
    "# generate simple functions\n",
    "def pollutant_to_aqi(pollutant):\n",
    "    return lambda conc: aqi.to_aqi([(pollutant, conc)])\n",
    "aqi_pm25=pollutant_to_aqi(aqi.POLLUTANT_PM25)\n",
    "\n",
    "# List of pollutant symbols from aqi library\n",
    "# \"POLLUTANT_PM25, POLLUTANT_PM10,\n",
    "#                          POLLUTANT_O3_8H, POLLUTANT_O3_1H,\n",
    "#                          POLLUTANT_CO_8H, POLLUTANT_SO2_1H,\n",
    "#                          POLLUTANT_NO2_1H\"\n",
    "\n",
    "pollutant_list=[aqi.POLLUTANT_PM25, aqi.POLLUTANT_PM10,\n",
    "                          aqi.POLLUTANT_O3_8H, aqi.POLLUTANT_O3_1H,\n",
    "                          aqi.POLLUTANT_CO_8H, aqi.POLLUTANT_SO2_1H]\n",
    "\n",
    "if 1==0: # full pollutants list\n",
    "    pollutants_dict={aqi.POLLUTANT_PM25: \"FSP_24\", aqi.POLLUTANT_PM10: 'RSP_24',\n",
    "    aqi.POLLUTANT_O3_8H : 'O3_8', aqi.POLLUTANT_O3_1H: 'O3',\n",
    "    aqi.POLLUTANT_CO_8H: 'CO', aqi.POLLUTANT_SO2_1H : 'SO2',\n",
    "    aqi.POLLUTANT_NO2_1H : 'NO2'}        \n",
    "else: #partial pollutants list\n",
    "    pollutants_dict={aqi.POLLUTANT_PM25: \"FSP_24\", aqi.POLLUTANT_PM10: 'RSP_24',\n",
    "                     aqi.POLLUTANT_SO2_1H : 'SO2',\n",
    "    aqi.POLLUTANT_NO2_1H : 'NO2'}     \n",
    "    \n",
    "frames[0]['FSP'].apply(aqi_pm25).head()"
   ]
  },
  {
   "cell_type": "code",
   "execution_count": 110,
   "metadata": {},
   "outputs": [],
   "source": [
    "# generate functions\n",
    "# def pollutant_to_aqi(pollutant):\n",
    "#    return lambda conc: aqi.to_aqi([(pollutant, conc)])\n",
    "def compute_aqi_to_df(frame,pollutants_dict,pollutant_to_aqi):\n",
    "    frame.fillna(method='bfill', inplace=True)\n",
    "    aqi_names=pollutants_dict.keys()\n",
    "    aqi_names=[name +\"_aqi\" for name in list(aqi_names)]\n",
    "    for aqi_name, data_name in pollutants_dict.items():\n",
    "        aqi_temp_func=pollutant_to_aqi(aqi_name)\n",
    "        frame[aqi_name+\"_aqi\"]=frame[data_name].apply(aqi_temp_func)\n",
    "    frame[\"aqi_max\"]=frame[aqi_names].apply(max,axis=1)\n",
    "    return frame\n",
    "\n",
    "compute_aqi_to_df_simple = lambda frame: compute_aqi_to_df(frame,pollutants_dict,pollutant_to_aqi)\n",
    "\n",
    "def aqi_to_all_dfs(frames):\n",
    "    for frame in frames:\n",
    "        frame=compute_aqi_to_df_simple(frame)\n",
    "    return frames\n",
    "frames=aqi_to_all_dfs(frames)\n",
    "\n",
    "        "
   ]
  },
  {
   "cell_type": "code",
   "execution_count": 152,
   "metadata": {},
   "outputs": [],
   "source": [
    "freq, bins = np.histogram(np.array(frames[2][\"aqi_max\"],dtype=np.float64), bins=100)\n",
    "vals=(bins[:-1] + bins[1:]) \n"
   ]
  },
  {
   "cell_type": "code",
   "execution_count": 153,
   "metadata": {},
   "outputs": [
    {
     "data": {
      "image/png": "[encoded data removed]",
      "text/plain": [
       "<Figure size 432x288 with 1 Axes>"
      ]
     },
     "metadata": {},
     "output_type": "display_data"
    }
   ],
   "source": [
    "plt.plot(vals,freq)\n",
    "plt.show()"
   ]
  },
  {
   "cell_type": "code",
   "execution_count": 262,
   "metadata": {},
   "outputs": [
    {
     "data": {
      "text/html": [
       "<div>\n",
       "<style scoped>\n",
       "    .dataframe tbody tr th:only-of-type {\n",
       "        vertical-align: middle;\n",
       "    }\n",
       "\n",
       "    .dataframe tbody tr th {\n",
       "        vertical-align: top;\n",
       "    }\n",
       "\n",
       "    .dataframe thead th {\n",
       "        text-align: right;\n",
       "    }\n",
       "</style>\n",
       "<table border=\"1\" class=\"dataframe\">\n",
       "  <thead>\n",
       "    <tr style=\"text-align: right;\">\n",
       "      <th></th>\n",
       "      <th>aqi_us_min</th>\n",
       "      <th>aqi_us_max</th>\n",
       "      <th>aqhi_min</th>\n",
       "      <th>aqhi_max</th>\n",
       "    </tr>\n",
       "  </thead>\n",
       "  <tbody>\n",
       "    <tr>\n",
       "      <th>0</th>\n",
       "      <td>0</td>\n",
       "      <td>50</td>\n",
       "      <td>1</td>\n",
       "      <td>3</td>\n",
       "    </tr>\n",
       "    <tr>\n",
       "      <th>1</th>\n",
       "      <td>51</td>\n",
       "      <td>100</td>\n",
       "      <td>4</td>\n",
       "      <td>6</td>\n",
       "    </tr>\n",
       "    <tr>\n",
       "      <th>2</th>\n",
       "      <td>151</td>\n",
       "      <td>200</td>\n",
       "      <td>7</td>\n",
       "      <td>7</td>\n",
       "    </tr>\n",
       "    <tr>\n",
       "      <th>3</th>\n",
       "      <td>201</td>\n",
       "      <td>300</td>\n",
       "      <td>8</td>\n",
       "      <td>10</td>\n",
       "    </tr>\n",
       "    <tr>\n",
       "      <th>4</th>\n",
       "      <td>301</td>\n",
       "      <td>9999</td>\n",
       "      <td>11</td>\n",
       "      <td>50</td>\n",
       "    </tr>\n",
       "  </tbody>\n",
       "</table>\n",
       "</div>"
      ],
      "text/plain": [
       "   aqi_us_min  aqi_us_max  aqhi_min  aqhi_max\n",
       "0           0          50         1         3\n",
       "1          51         100         4         6\n",
       "2         151         200         7         7\n",
       "3         201         300         8        10\n",
       "4         301        9999        11        50"
      ]
     },
     "execution_count": 262,
     "metadata": {},
     "output_type": "execute_result"
    }
   ],
   "source": [
    "# List of plots to do:\n",
    "# [ ] scatter of US AQI and HK AQHI\n",
    "# [ ] time series of both with separate vert axis\n",
    "# [ ] histograms of both \n",
    "# [ ] functions to do these plots for all datasets\n",
    "# [ ]\n",
    "# [ ]\n",
    "# [ ]\n",
    "# [ ]\n",
    "# [ ]\n",
    "\n",
    "# quality ranges\n",
    "d={'aqi_us_min': [0, 51, 151, 201, 301],\n",
    "    'aqi_us_max': [50, 100, 200, 300, 9999],\n",
    "    'aqhi_min': [1, 4, 7, 8, 11],\n",
    "    'aqhi_max': [3, 6, 7, 10, 50]}\n",
    "quality_ranges = pd.DataFrame(data=d)\n",
    "quality_ranges"
   ]
  },
  {
   "cell_type": "markdown",
   "metadata": {},
   "source": [
    "### Air quality index ranges\n",
    "\n",
    "In the table below a mapping of the qualitative scales of air quality indices in use in Hong Kong / US.\n",
    "\n",
    "|Description| <td colspan=1> AQI US| <td colspan=1> AQHI HK|\n",
    "|---        | -  --|--            -| -            -- | --- |\n",
    "|           | min | max | min | max |\n",
    "|   Good    | 0   | 50  | 1   | 3   |\n",
    "|   Moderate    | 50   | 100  | 4   | 6   |\n",
    "|   Unhealthy    | 150   | 200  | 7   | 7   |\n",
    "|   Very Unhealthy/Very High    | 200   | 300  | 8   | 10   |\n",
    "|   Hazardous/Serious    | 300   | na | 11    | na  |"
   ]
  },
  {
   "cell_type": "code",
   "execution_count": 266,
   "metadata": {},
   "outputs": [
    {
     "name": "stdout",
     "output_type": "stream",
     "text": [
      "\n"
     ]
    },
    {
     "data": {
      "image/png": "[encoded data removed]",
      "text/plain": [
       "<Figure size 432x288 with 1 Axes>"
      ]
     },
     "metadata": {},
     "output_type": "display_data"
    },
    {
     "data": {
      "text/plain": [
       "8"
      ]
     },
     "execution_count": 266,
     "metadata": {},
     "output_type": "execute_result"
    }
   ],
   "source": [
    "# Scatter plot\n",
    "def air_quality_scatter(frame,days):\n",
    "    start,end=-24*days,-1\n",
    "    hour=frame[\"HOUR\"][start:end]\n",
    "    date=frame[\"DATE\"][start:end]\n",
    "#    plt.plot(date,frame[\"AQHI\"][start:end],'-b')   \n",
    "    plt.plot(frame[\"aqi_max\"][start:end],frame[\"AQHI\"][start:end],'.b')\n",
    "    plt.grid()\n",
    "    print()\n",
    "    title=frame[\"STATION\"][0]+\" \"+date.iloc[0]+\" - \"+date.iloc[-1]\n",
    "    plt.title(title)\n",
    "    plt.xlabel(\"AQI US\")\n",
    "    plt.ylabel(\"HK AQHI\")\n",
    "    plt.show()\n",
    "    return None\n",
    "\n",
    "days=7*40\n",
    "if 1==0:\n",
    "    for frame in frames:\n",
    "        air_quality_scatter(frame,days)\n",
    "\n",
    "air_quality_scatter(frames[0],days)\n",
    "len(frames)\n"
   ]
  },
  {
   "cell_type": "markdown",
   "metadata": {},
   "source": []
  },
  {
   "cell_type": "code",
   "execution_count": null,
   "metadata": {},
   "outputs": [],
   "source": []
  },
  {
   "cell_type": "code",
   "execution_count": 248,
   "metadata": {},
   "outputs": [
    {
     "name": "stdout",
     "output_type": "stream",
     "text": [
      "\n"
     ]
    },
    {
     "data": {
      "image/png": "[encoded data removed]",
      "text/plain": [
       "<Figure size 432x288 with 2 Axes>"
      ]
     },
     "metadata": {},
     "output_type": "display_data"
    }
   ],
   "source": [
    "# time series plot\n",
    "def air_quality_timeseries(frame,days):\n",
    "    start,end=-24*days,-1\n",
    "    hour=frame[\"HOUR\"][start:end]\n",
    "    date=frame[\"DATE\"][start:end]\n",
    "    \n",
    "    fig, ax1 = plt.subplots() \n",
    "    ax1.plot(frame[\"AQHI\"][start:end],'-r')  \n",
    "    ax2 = ax1.twinx()  \n",
    "    ax2.plot(frame[\"aqi_max\"][start:end],'-b') \n",
    "    plt.grid()\n",
    "    print()\n",
    "    title=frame[\"STATION\"][0]+\" \"+date.iloc[0]+\" - \"+date.iloc[-1]+\" (hourly data)\"\n",
    "    plt.title(title)\n",
    "    ax2.set_ylabel(\"AQI US\")\n",
    "    ax1.set_ylabel(\"HK AQHI\")\n",
    "    plt.show()\n",
    "    return None\n",
    "\n",
    "days=7*1\n",
    "air_quality_timeseries(frames[0],days)"
   ]
  },
  {
   "cell_type": "code",
   "execution_count": null,
   "metadata": {},
   "outputs": [],
   "source": [
    "# distribution plots"
   ]
  },
  {
   "cell_type": "code",
   "execution_count": 156,
   "metadata": {},
   "outputs": [
    {
     "data": {
      "text/plain": [
       "Index(['DATE', 'HOUR', 'STATION', 'CO', 'FSP', 'NO2', 'NOX', 'O3', 'RSP',\n",
       "       'SO2', 'file', 'FSP_24', 'RSP_24', 'O3_8', 'nans', 'FSP_3', 'RSP_3',\n",
       "       'CO_3', 'NO2_3', 'NOX_3', 'O3_3', 'SO2_3', 'AQHI', 'AQHI_instant',\n",
       "       'pm25+aqi', 'pm10+aqi', 'so2_1h+aqi', 'no2_1h+aqi', 'pm25_aqi',\n",
       "       'pm10_aqi', 'so2_1h_aqi', 'no2_1h_aqi', 'aqi_max'],\n",
       "      dtype='object')"
      ]
     },
     "execution_count": 156,
     "metadata": {},
     "output_type": "execute_result"
    }
   ],
   "source": [
    "frames[0].keys()"
   ]
  },
  {
   "cell_type": "code",
   "execution_count": 90,
   "metadata": {},
   "outputs": [
    {
     "data": {
      "text/plain": [
       "Decimal('139')"
      ]
     },
     "execution_count": 90,
     "metadata": {},
     "output_type": "execute_result"
    }
   ],
   "source": [
    "# testing the aqi library's to_aqi function - seems to work\n",
    "aqi.to_aqi([\n",
    "    (aqi.POLLUTANT_PM25, df['FSP'].iloc[1]),\n",
    "    (aqi.POLLUTANT_PM10, '24'),\n",
    "    (aqi.POLLUTANT_O3_8H, '0.087')\n",
    "])"
   ]
  },
  {
   "cell_type": "code",
   "execution_count": 305,
   "metadata": {},
   "outputs": [
    {
     "data": {
      "text/plain": [
       "'pm25'"
      ]
     },
     "execution_count": 305,
     "metadata": {},
     "output_type": "execute_result"
    }
   ],
   "source": [
    "aqi.POLLUTANT_PM25"
   ]
  },
  {
   "cell_type": "markdown",
   "metadata": {},
   "source": [
    "### Data for comparison\n",
    "\n",
    "For comparison and validation we need to download the hourly AQHI data, and respective US AQI data to run the comparison"
   ]
  },
  {
   "cell_type": "code",
   "execution_count": 160,
   "metadata": {},
   "outputs": [],
   "source": [
    "# Lets concatenate dataframes\n",
    "dfa=pd.concat(frames)"
   ]
  },
  {
   "cell_type": "markdown",
   "metadata": {},
   "source": [
    "# References\n",
    "\n",
    "1. [Development and Application of a Next Generation\n",
    "Air Sensor Network for the Hong Kong Marathon\n",
    "2015 Air Quality Monitoring](https://pdfs.semanticscholar.org/76b5/d17b3d917cf5b9a16a6afd806d1c8f3ba7bc.pdf)\n",
    "2. [How is the hourly AQHI calculated?](http://www.aqhi.gov.hk/en/what-is-aqhi/faqs.html#e_02)\n",
    "3. [Computing the AQI](https://en.wikipedia.org/wiki/Air_quality_index#Computing_the_AQI)\n",
    "4. [NowCast (air quality index)](https://en.wikipedia.org/wiki/NowCast_(air_quality_index%29)\n",
    "5. [Inquire and Download Air Quality Monitoring Data](https://cd.epic.epd.gov.hk/EPICDI/air/station/)\n",
    "6. [A library to convert between AQI value and pollutant concentration (µg/m³ or ppm)](https://github.com/hrbonz/python-aqi/blob/master/aqi/algos/epa.py)\n",
    "7. [Past AQHI Record for Download\n",
    "](http://www.aqhi.gov.hk/en/aqhi/statistics-of-aqhi/past-aqhi-records.html)"
   ]
  },
  {
   "cell_type": "code",
   "execution_count": null,
   "metadata": {},
   "outputs": [],
   "source": []
  }
 ],
 "metadata": {
  "kernelspec": {
   "display_name": "Python 3",
   "language": "python",
   "name": "python3"
  },
  "language_info": {
   "codemirror_mode": {
    "name": "ipython",
    "version": 3
   },
   "file_extension": ".py",
   "mimetype": "text/x-python",
   "name": "python",
   "nbconvert_exporter": "python",
   "pygments_lexer": "ipython3",
   "version": "3.6.6"
  }
 },
 "nbformat": 4,
 "nbformat_minor": 2
}
