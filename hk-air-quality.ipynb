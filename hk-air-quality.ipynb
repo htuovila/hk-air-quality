{
 "cells": [
  {
   "cell_type": "markdown",
   "metadata": {},
   "source": [
    "Data downloaded from https://cd.epic.epd.gov.hk/EPICDI/air/station/\n",
    "on January 12th 2019.\n",
    "\n",
    "Data is located in subfolder data-files, and split into 4 csv files, each containing\n",
    "data from one year from one station (Tung Chung and Hong Kong Central)."
   ]
  },
  {
   "cell_type": "code",
   "execution_count": 67,
   "metadata": {},
   "outputs": [],
   "source": [
    "# Imports\n",
    "import pandas as pd\n",
    "import numpy as np\n",
    "import seaborn as sns\n",
    "import matplotlib.pyplot as plt\n",
    "import os\n",
    "import math"
   ]
  },
  {
   "cell_type": "code",
   "execution_count": 63,
   "metadata": {},
   "outputs": [],
   "source": [
    "subfolder = \"data-files\"\n",
    "file_names=os.listdir(subfolder)\n",
    "# load the csvs\n",
    "frames=[]\n",
    "for file in file_names:\n",
    "    complete_path=subfolder + \"/\" + file\n",
    "    df=pd.read_csv(complete_path, header=10)\n",
    "    df['file']=file\n",
    "    frames.append(df)"
   ]
  },
  {
   "cell_type": "code",
   "execution_count": 87,
   "metadata": {},
   "outputs": [
    {
     "data": {
      "text/html": [
       "<div>\n",
       "<style scoped>\n",
       "    .dataframe tbody tr th:only-of-type {\n",
       "        vertical-align: middle;\n",
       "    }\n",
       "\n",
       "    .dataframe tbody tr th {\n",
       "        vertical-align: top;\n",
       "    }\n",
       "\n",
       "    .dataframe thead th {\n",
       "        text-align: right;\n",
       "    }\n",
       "</style>\n",
       "<table border=\"1\" class=\"dataframe\">\n",
       "  <thead>\n",
       "    <tr style=\"text-align: right;\">\n",
       "      <th></th>\n",
       "      <th>DATE</th>\n",
       "      <th>HOUR</th>\n",
       "      <th>STATION</th>\n",
       "      <th>CO</th>\n",
       "      <th>FSP</th>\n",
       "      <th>NO2</th>\n",
       "      <th>NOX</th>\n",
       "      <th>O3</th>\n",
       "      <th>RSP</th>\n",
       "      <th>SO2</th>\n",
       "      <th>file</th>\n",
       "    </tr>\n",
       "  </thead>\n",
       "  <tbody>\n",
       "    <tr>\n",
       "      <th>0</th>\n",
       "      <td>1/1/2018</td>\n",
       "      <td>1</td>\n",
       "      <td>CENTRAL</td>\n",
       "      <td>82</td>\n",
       "      <td>54</td>\n",
       "      <td>57</td>\n",
       "      <td>75</td>\n",
       "      <td>58</td>\n",
       "      <td>73</td>\n",
       "      <td>5</td>\n",
       "      <td>hk-air_hourly2018.csv</td>\n",
       "    </tr>\n",
       "    <tr>\n",
       "      <th>1</th>\n",
       "      <td>1/1/2018</td>\n",
       "      <td>2</td>\n",
       "      <td>CENTRAL</td>\n",
       "      <td>77</td>\n",
       "      <td>51</td>\n",
       "      <td>49</td>\n",
       "      <td>67</td>\n",
       "      <td>63</td>\n",
       "      <td>71</td>\n",
       "      <td>5</td>\n",
       "      <td>hk-air_hourly2018.csv</td>\n",
       "    </tr>\n",
       "    <tr>\n",
       "      <th>2</th>\n",
       "      <td>1/1/2018</td>\n",
       "      <td>3</td>\n",
       "      <td>CENTRAL</td>\n",
       "      <td>76</td>\n",
       "      <td>37</td>\n",
       "      <td>37</td>\n",
       "      <td>49</td>\n",
       "      <td>68</td>\n",
       "      <td>58</td>\n",
       "      <td>4</td>\n",
       "      <td>hk-air_hourly2018.csv</td>\n",
       "    </tr>\n",
       "    <tr>\n",
       "      <th>3</th>\n",
       "      <td>1/1/2018</td>\n",
       "      <td>4</td>\n",
       "      <td>CENTRAL</td>\n",
       "      <td>77</td>\n",
       "      <td>40</td>\n",
       "      <td>34</td>\n",
       "      <td>50</td>\n",
       "      <td>69</td>\n",
       "      <td>58</td>\n",
       "      <td>4</td>\n",
       "      <td>hk-air_hourly2018.csv</td>\n",
       "    </tr>\n",
       "    <tr>\n",
       "      <th>4</th>\n",
       "      <td>1/1/2018</td>\n",
       "      <td>5</td>\n",
       "      <td>CENTRAL</td>\n",
       "      <td>82</td>\n",
       "      <td>44</td>\n",
       "      <td>33</td>\n",
       "      <td>48</td>\n",
       "      <td>67</td>\n",
       "      <td>61</td>\n",
       "      <td>5</td>\n",
       "      <td>hk-air_hourly2018.csv</td>\n",
       "    </tr>\n",
       "  </tbody>\n",
       "</table>\n",
       "</div>"
      ],
      "text/plain": [
       "       DATE  HOUR  STATION  CO FSP NO2 NOX  O3 RSP SO2                   file\n",
       "0  1/1/2018     1  CENTRAL  82  54  57  75  58  73   5  hk-air_hourly2018.csv\n",
       "1  1/1/2018     2  CENTRAL  77  51  49  67  63  71   5  hk-air_hourly2018.csv\n",
       "2  1/1/2018     3  CENTRAL  76  37  37  49  68  58   4  hk-air_hourly2018.csv\n",
       "3  1/1/2018     4  CENTRAL  77  40  34  50  69  58   4  hk-air_hourly2018.csv\n",
       "4  1/1/2018     5  CENTRAL  82  44  33  48  67  61   5  hk-air_hourly2018.csv"
      ]
     },
     "execution_count": 87,
     "metadata": {},
     "output_type": "execute_result"
    }
   ],
   "source": [
    "# Lets have a look on the data\n",
    "df.head()"
   ]
  },
  {
   "cell_type": "code",
   "execution_count": 65,
   "metadata": {},
   "outputs": [],
   "source": [
    "# Lets concatenate dataframes\n",
    "dfa=pd.concat(frames)"
   ]
  },
  {
   "cell_type": "markdown",
   "metadata": {},
   "source": [
    "# Pollutants to Air quality indices\n",
    "Next challenge is to transform the hourly pollutant level data into either -> AQHI (air quality health index, by environmental protection department of HK)\n",
    "-> AQI (air quality index, by environmental protection agency of the USA)\n",
    "\n",
    "## AQI US Calculation\n",
    "Explanation on how to calculate the US AQI can be found documented in wikipedia\n",
    "https://en.wikipedia.org/wiki/Air_quality_index#Computing_the_AQI\n",
    "\n",
    "Since there exists a well documented Python package for calculating the US AQI we resort to that for now. The library is called ```python-aqi```. Source code and documentation can be found [on github](https://github.com/hrbonz/python-aqi).\n",
    "\n",
    "Installation is done in command line interface with ```pip install python-aqi```, and importing with ```import aqi```."
   ]
  },
  {
   "cell_type": "code",
   "execution_count": 40,
   "metadata": {},
   "outputs": [],
   "source": [
    "import aqi"
   ]
  },
  {
   "cell_type": "markdown",
   "metadata": {},
   "source": [
    "### Terminology\n",
    "Carbon Monoxide = CO  \n",
    "Fine Suspended Particulates = FSP = PM25  \n",
    "Nitrogen Dioxide = NO2  \n",
    "Nitrogen Oxides = NOX  \n",
    "Ozone = O3  \n",
    "Respirable Suspended Particulates = RSP = PM10  \n",
    "Sulphur Dioxide = SO2  \n"
   ]
  },
  {
   "cell_type": "markdown",
   "metadata": {},
   "source": [
    "### AQI components\n",
    "For computing the AQI in addition to hourly measures we will need  \n",
    "* 8h average of the Ozone concentration\n",
    "* 24h average of the PM25 concentration\n",
    "* 24h average of the PM10 concentration\n",
    "\n",
    "When reporting current air quality conditions averaging past 24h observations\n",
    "would not make much sense, the US EPA uses an averaging system called [NowCast]( https://en.wikipedia.org/wiki/NowCast_(air_quality_index%29).\n",
    "\n",
    "TODO: NowCast computation\n",
    "\n",
    "Currently we resort to observed values, and calculate the real 24h averages (which are of course not same as the reported momentary predictive AQI values)\n",
    "\n",
    "\n",
    "### Hong Kong AQHI\n",
    "AQHI (air quality health index) is a measure designed to signal the expected health\n",
    "effects of present pollutant concentration.\n",
    "\n",
    "A study report by a team in CUHK may be found [online](http://www.aqhi.gov.hk/pdf/related_websites/APIreview_report.pdf) and the [general portal in english](http://www.aqhi.gov.hk/en.html) by the HK Environmental Protection Department.\n",
    "\n",
    "The Hong Kong AQHI is based on the [Canadian counterpart](https://en.wikipedia.org/wiki/Air_Quality_Health_Index_(Canada)), but the model parameters have been recalibrated to localize the model.\n",
    "\n",
    "The model for computing the AQHI is shown in full [in EPD's faq](http://www.aqhi.gov.hk/en/what-is-aqhi/faqs.html).\n"
   ]
  },
  {
   "cell_type": "code",
   "execution_count": 85,
   "metadata": {},
   "outputs": [],
   "source": [
    "# Function for computing the AQHI\n",
    "def added_risk(beta,concentration):\n",
    "    '''generic added risk function for computing the added health risk\n",
    "    of a pollutant concentration'''\n",
    "    ar=math.expm1(beta*concentration)*100\n",
    "    return ar\n",
    "\n",
    "def aqhi_func(conc, added_risk):\n",
    "    '''each input represents the 3h moving average\n",
    "    of the pollutant concentration in question'''\n",
    "    #constants (regression coefficients)\n",
    "    pollutants=[\"NO2\",\"SO2\",\"O3\",\"PM10\",\"PM25\"]\n",
    "    betas=[0.0004462559,0.0001393235,0.0005116328,0.0002821751,0.0002180567]\n",
    "    ars=list(map(added_risk, betas, conc))\n",
    "    ar_total=sum(ars[0:2])+max(ars[3:4])\n",
    "    return ar_total\n"
   ]
  },
  {
   "cell_type": "code",
   "execution_count": 86,
   "metadata": {},
   "outputs": [
    {
     "name": "stdout",
     "output_type": "stream",
     "text": [
      "7.326174439235971\n"
     ]
    }
   ],
   "source": [
    "conc_test=[115,15,4,65,40]\n",
    "print(aqhi_func(conc_test,added_risk))"
   ]
  },
  {
   "cell_type": "code",
   "execution_count": 90,
   "metadata": {},
   "outputs": [
    {
     "data": {
      "text/plain": [
       "Decimal('139')"
      ]
     },
     "execution_count": 90,
     "metadata": {},
     "output_type": "execute_result"
    }
   ],
   "source": [
    "# testing the aqi library's to_aqi function - seems to work\n",
    "aqi.to_aqi([\n",
    "    (aqi.POLLUTANT_PM25, df['FSP'].iloc[1]),\n",
    "    (aqi.POLLUTANT_PM10, '24'),\n",
    "    (aqi.POLLUTANT_O3_8H, '0.087')\n",
    "])"
   ]
  },
  {
   "cell_type": "markdown",
   "metadata": {},
   "source": [
    "### Data for comparison\n",
    "\n",
    "For comparison and validation we need to download the hourly AQHI data, and respective US AQI data to run the comparison"
   ]
  },
  {
   "cell_type": "markdown",
   "metadata": {},
   "source": [
    "# References\n",
    "\n",
    "1. [Development and Application of a Next Generation\n",
    "Air Sensor Network for the Hong Kong Marathon\n",
    "2015 Air Quality Monitoring](https://pdfs.semanticscholar.org/76b5/d17b3d917cf5b9a16a6afd806d1c8f3ba7bc.pdf)\n",
    "2. [How is the hourly AQHI calculated?](http://www.aqhi.gov.hk/en/what-is-aqhi/faqs.html#e_02)\n",
    "3. [Computing the AQI](https://en.wikipedia.org/wiki/Air_quality_index#Computing_the_AQI)\n",
    "4. [NowCast (air quality index)](https://en.wikipedia.org/wiki/NowCast_(air_quality_index%29)\n",
    "5. [Inquire and Download Air Quality Monitoring Data](https://cd.epic.epd.gov.hk/EPICDI/air/station/)\n",
    "6. [A library to convert between AQI value and pollutant concentration (µg/m³ or ppm)](https://github.com/hrbonz/python-aqi/blob/master/aqi/algos/epa.py)\n",
    "7. [Past AQHI Record for Download\n",
    "](http://www.aqhi.gov.hk/en/aqhi/statistics-of-aqhi/past-aqhi-records.html)"
   ]
  },
  {
   "cell_type": "code",
   "execution_count": null,
   "metadata": {},
   "outputs": [],
   "source": []
  }
 ],
 "metadata": {
  "kernelspec": {
   "display_name": "Python 3",
   "language": "python",
   "name": "python3"
  },
  "language_info": {
   "codemirror_mode": {
    "name": "ipython",
    "version": 3
   },
   "file_extension": ".py",
   "mimetype": "text/x-python",
   "name": "python",
   "nbconvert_exporter": "python",
   "pygments_lexer": "ipython3",
   "version": "3.6.6"
  }
 },
 "nbformat": 4,
 "nbformat_minor": 2
}
